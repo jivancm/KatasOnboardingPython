{
 "cells": [
  {
   "cell_type": "markdown",
   "metadata": {},
   "source": [
    "## Ejercicio 1: Creación de diccionarios de Python\n",
    "Crear un diccionario que almacene información sobre el planeta Marte.\n",
    "\n",
    "Crear un nuevo diccionario denominado ``planet``. Rellena con la siguiente información:\n",
    "\n",
    "``name: Mars``<br>\n",
    "``moons: 2``"
   ]
  },
  {
   "cell_type": "code",
   "execution_count": 1,
   "metadata": {},
   "outputs": [],
   "source": [
    "planet = {\n",
    "    'name' : 'Mars',\n",
    "    'moons': 2\n",
    "}"
   ]
  },
  {
   "cell_type": "markdown",
   "metadata": {},
   "source": [
    "Para recuperar valores, puede utilizar el método get o corchetes ([ ]) con el nombre de la clave que desea recuperar."
   ]
  },
  {
   "cell_type": "code",
   "execution_count": 3,
   "metadata": {},
   "outputs": [
    {
     "name": "stdout",
     "output_type": "stream",
     "text": [
      "El planeta Mars tiene 2 lunas.\n"
     ]
    }
   ],
   "source": [
    "print(\"El planeta\", planet.get('name'), 'tiene', planet['moons'], 'lunas.')"
   ]
  },
  {
   "cell_type": "markdown",
   "metadata": {},
   "source": [
    "Agregar un nuevo valor con una clave de ``circunferencia (km)``. Con los siguientes valores:\n",
    "\n",
    "``polar: 6752``<br>``equatorial: 6792``"
   ]
  },
  {
   "cell_type": "code",
   "execution_count": 4,
   "metadata": {},
   "outputs": [],
   "source": [
    "planet['circunferencia (km)'] = {\n",
    "    'polar': 6752,\n",
    "    'equiatorial': 6792\n",
    "}"
   ]
  },
  {
   "cell_type": "markdown",
   "metadata": {},
   "source": [
    "Imprimir el nombre del planeta con su circunferencia polar"
   ]
  },
  {
   "cell_type": "code",
   "execution_count": 5,
   "metadata": {},
   "outputs": [
    {
     "name": "stdout",
     "output_type": "stream",
     "text": [
      "La circunferencia polar de None es 6752 km\n"
     ]
    }
   ],
   "source": [
    "print('La circunferencia polar de', planet.get('nombre'), 'es', planet.get('circunferencia (km)').get('polar'), 'km')"
   ]
  },
  {
   "cell_type": "markdown",
   "metadata": {},
   "source": [
    "## Ejercicio 2: Programación dinámica con diccionarios\n",
    "Calcular tanto el número total de lunas en el sistema solar como el número promedio de lunas que tiene un planeta."
   ]
  },
  {
   "cell_type": "code",
   "execution_count": 7,
   "metadata": {},
   "outputs": [],
   "source": [
    "# Planets and moons\n",
    "\n",
    "planet_moons = {\n",
    "    'mercury': 0,\n",
    "    'venus': 0,\n",
    "    'earth': 1,\n",
    "    'mars': 2,\n",
    "    'jupiter': 79,\n",
    "    'saturn': 82,\n",
    "    'uranus': 27,\n",
    "    'neptune': 14,\n",
    "    'pluto': 5,\n",
    "    'haumea': 2,\n",
    "    'makemake': 1,\n",
    "    'eris': 1\n",
    "}"
   ]
  },
  {
   "cell_type": "markdown",
   "metadata": {},
   "source": [
    "Determinar el número de lunas.\n",
    "\n",
    "Almacenar el valor ``values`` de ``planet_moons`` en una variable denominada ``moons``. A continuación, almacena el número de planetas en una variable denominada ``planets``."
   ]
  },
  {
   "cell_type": "code",
   "execution_count": 12,
   "metadata": {},
   "outputs": [],
   "source": [
    "planets = len(planet_moons)\n",
    "moons = planet_moons.values()"
   ]
  },
  {
   "cell_type": "markdown",
   "metadata": {},
   "source": [
    "Contar el número de lunas. Sumar el total de lunas en una variable denominada ``total_moons``. \n",
    "\n",
    "Finalmente, calcular el promedio dividiendo ``total_moons`` por ``planets`` e imprimiendo los resultados."
   ]
  },
  {
   "cell_type": "code",
   "execution_count": 18,
   "metadata": {},
   "outputs": [
    {
     "name": "stdout",
     "output_type": "stream",
     "text": [
      "Hay 214 lunas en el sistema solar; el promedio de lunas por planeta es 17.833333333333332 (hay 12 planetas)\n"
     ]
    }
   ],
   "source": [
    "total_moons = 0\n",
    "for moonsInPlanet in moons:\n",
    "    \n",
    "    total_moons += moonsInPlanet\n",
    "\n",
    "print('Hay', total_moons, 'lunas en el sistema solar; el promedio de lunas por planeta es', total_moons/planets, '(hay', planets, 'planetas)')"
   ]
  }
 ],
 "metadata": {
  "interpreter": {
   "hash": "a49403f7107e3f74ae75ea229ff6ff75fac22229be287630c7df15351ab549b8"
  },
  "kernelspec": {
   "display_name": "Python 3.9.5 64-bit",
   "language": "python",
   "name": "python3"
  },
  "language_info": {
   "codemirror_mode": {
    "name": "ipython",
    "version": 3
   },
   "file_extension": ".py",
   "mimetype": "text/x-python",
   "name": "python",
   "nbconvert_exporter": "python",
   "pygments_lexer": "ipython3",
   "version": "3.9.5"
  },
  "orig_nbformat": 4
 },
 "nbformat": 4,
 "nbformat_minor": 2
}
