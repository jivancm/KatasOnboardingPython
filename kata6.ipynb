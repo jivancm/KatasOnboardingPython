{
 "cells": [
  {
   "cell_type": "markdown",
   "metadata": {},
   "source": [
    "## Ejercicio1: Crear y usar listas de Python\n",
    "Crea una variable denominada ``planets``. Agrega los ocho planetas (sin Plutón) a la lista. A continuación, muestra el número de planetas"
   ]
  },
  {
   "cell_type": "code",
   "execution_count": 1,
   "metadata": {},
   "outputs": [
    {
     "name": "stdout",
     "output_type": "stream",
     "text": [
      "Hay 8 Planetas\n"
     ]
    }
   ],
   "source": [
    "planets = ['Mercurio', 'Venus', 'Tierra', 'Marte', 'Júpiter', 'Saturno', 'Urano', 'Neptuno']\n",
    "totalPlanetas = len(planets)\n",
    "print (\"Hay\", totalPlanetas, \"Planetas\")"
   ]
  },
  {
   "cell_type": "markdown",
   "metadata": {},
   "source": [
    "Agregar Plutón a la lista"
   ]
  },
  {
   "cell_type": "code",
   "execution_count": 2,
   "metadata": {},
   "outputs": [
    {
     "name": "stdout",
     "output_type": "stream",
     "text": [
      "Hay 9 Planetas. Y el último es Plutón\n"
     ]
    }
   ],
   "source": [
    "planets.append('Plutón')\n",
    "totalPlanetas = len(planets)\n",
    "print (\"Hay\", totalPlanetas, \"Planetas. Y el último es\", planets[totalPlanetas-1])"
   ]
  },
  {
   "cell_type": "markdown",
   "metadata": {},
   "source": [
    "## Ejercicio 2: Trabajando con datos de una lista\n",
    "#### Usar ``slice`` para recuperar partes de una lista\n",
    "Lista con los planetas"
   ]
  },
  {
   "cell_type": "code",
   "execution_count": 5,
   "metadata": {},
   "outputs": [],
   "source": [
    "planets = ['Mercury', 'Venus', 'Earth', 'Mars', 'Jupiter', 'Saturn', 'Neptune']"
   ]
  },
  {
   "cell_type": "markdown",
   "metadata": {},
   "source": [
    "Solicitar al usuario el nombre de un planeta. Solicitar al usuario que la primer letra del planeta sea mayúscula. Encontrar el índice del planeta encontrado"
   ]
  },
  {
   "cell_type": "code",
   "execution_count": 19,
   "metadata": {},
   "outputs": [
    {
     "name": "stdout",
     "output_type": "stream",
     "text": [
      "El planeta que introduciste se encuentra en la posición 2\n"
     ]
    }
   ],
   "source": [
    "planeta = input(\"Introduce el nombre de un planeta (recuerda que la primer letra que introduzcas debe ser mayúscula):\")\n",
    "posicion = -1 if planeta not in planets else planets.index(planeta)\n",
    "print(\"El planeta que introduciste\", \"no se encuetra en la lista\" if posicion<0 else \"se encuentra en la posición \" + str(posicion))"
   ]
  },
  {
   "cell_type": "markdown",
   "metadata": {},
   "source": [
    "Mostrar los planetas más cercanos al sol que el usuario ingresó"
   ]
  },
  {
   "cell_type": "code",
   "execution_count": 21,
   "metadata": {},
   "outputs": [
    {
     "name": "stdout",
     "output_type": "stream",
     "text": [
      "Los planetas más cercanos al sol son:  ['Mercury', 'Venus']\n"
     ]
    }
   ],
   "source": [
    "if posicion>=0:\n",
    "    planetasCercanos = slice(0, posicion) \n",
    "    print(\"Los planetas más cercanos al sol son: \", planets[planetasCercanos])"
   ]
  },
  {
   "cell_type": "markdown",
   "metadata": {},
   "source": [
    "Ahora mostrar los más alejados"
   ]
  },
  {
   "cell_type": "code",
   "execution_count": 24,
   "metadata": {},
   "outputs": [
    {
     "name": "stdout",
     "output_type": "stream",
     "text": [
      "Los planetas más alejados son:  ['Mars', 'Jupiter', 'Saturn', 'Neptune']\n"
     ]
    }
   ],
   "source": [
    "if posicion>=0:\n",
    "    planetasAlejados = slice(posicion+1, len(planets))\n",
    "    print(\"Los planetas más alejados son: \", planets[planetasAlejados])"
   ]
  }
 ],
 "metadata": {
  "interpreter": {
   "hash": "a49403f7107e3f74ae75ea229ff6ff75fac22229be287630c7df15351ab549b8"
  },
  "kernelspec": {
   "display_name": "Python 3.9.5 64-bit",
   "language": "python",
   "name": "python3"
  },
  "language_info": {
   "codemirror_mode": {
    "name": "ipython",
    "version": 3
   },
   "file_extension": ".py",
   "mimetype": "text/x-python",
   "name": "python",
   "nbconvert_exporter": "python",
   "pygments_lexer": "ipython3",
   "version": "3.9.5"
  },
  "orig_nbformat": 4
 },
 "nbformat": 4,
 "nbformat_minor": 2
}
