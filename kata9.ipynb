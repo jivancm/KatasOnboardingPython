{
 "cells": [
  {
   "cell_type": "markdown",
   "metadata": {},
   "source": [
    "## Ejercicio: Uso de funciones en Python\n",
    "### Ejercicio 1: Trabajar con argumentos en funciones\n",
    "Crear una función que necesite tres lecturas de combustible y devuelva un informe"
   ]
  },
  {
   "cell_type": "code",
   "execution_count": 8,
   "metadata": {},
   "outputs": [],
   "source": [
    "# Función para leer 3 tanques de combustible y muestre el promedio\n",
    "# Recibe el litraje almacenado en cada tanque\n",
    "def informeCombustible(tanque1, tanque2, tanque3):\n",
    "    promedio = (tanque1 + tanque2 + tanque3) / 3\n",
    "    print(\"La nave tiene un promedio de\", promedio, \"l de combustible\")"
   ]
  },
  {
   "cell_type": "markdown",
   "metadata": {},
   "source": [
    "Llamar la función"
   ]
  },
  {
   "cell_type": "code",
   "execution_count": 9,
   "metadata": {},
   "outputs": [
    {
     "name": "stdout",
     "output_type": "stream",
     "text": [
      "La nave tiene un promedio de 261.6666666666667 l de combustible\n"
     ]
    }
   ],
   "source": [
    "informeCombustible(286, 301, 198)"
   ]
  },
  {
   "cell_type": "markdown",
   "metadata": {},
   "source": [
    "De la función creado, extraer el cálculo promedio en una nueva función"
   ]
  },
  {
   "cell_type": "code",
   "execution_count": 10,
   "metadata": {},
   "outputs": [],
   "source": [
    "def getPromedio(tanque1, tanque2, tanque3):\n",
    "    return (tanque1 + tanque2 + tanque3)/3\n"
   ]
  },
  {
   "cell_type": "markdown",
   "metadata": {},
   "source": [
    "Actualizar la función que imprime el informe para que utilice la nueva función promedio"
   ]
  },
  {
   "cell_type": "code",
   "execution_count": 11,
   "metadata": {},
   "outputs": [],
   "source": [
    "def informeCombustible(tanque1, tanque2, tanque3):\n",
    "    promedio = getPromedio(tanque1, tanque2, tanque3)\n",
    "    print(\"El combustible promedio de la nave es de\", promedio, 'l')"
   ]
  },
  {
   "cell_type": "code",
   "execution_count": 12,
   "metadata": {},
   "outputs": [
    {
     "name": "stdout",
     "output_type": "stream",
     "text": [
      "El combustible promedio de la nave es de 261.6666666666667 l\n"
     ]
    }
   ],
   "source": [
    "informeCombustible(286,301,198)"
   ]
  },
  {
   "cell_type": "markdown",
   "metadata": {},
   "source": [
    "## Ejercicio 2: Trabajo con argumentos de palabra clave\n",
    "Función que emite un informe de cohete que requiere varias piezas de información, como el tiempo hasta el destino, el combustible a la izquierda (viendo el ejemplo es el combustible total, o supongo que restante, si consideramos la traducción *left*) y el nombre del destino. \n",
    "\n",
    "La función deberá mostrar un informe preciso de la misión:\n",
    "\n",
    "* Hora de prelanzamiento (viendo el ejemplo es Tiempo de prelanzamiento),\n",
    "* Tiempo de vuelo, \n",
    "* Destino, \n",
    "* Tanque externo y \n",
    "* Tanque interno."
   ]
  },
  {
   "cell_type": "code",
   "execution_count": 15,
   "metadata": {},
   "outputs": [
    {
     "name": "stdout",
     "output_type": "stream",
     "text": [
      "INFORME DEL VUELO\n",
      "Destino: Plutón\n",
      "Tiempo de vuelo: 381\n",
      "Combustible restante: 11391 l\n"
     ]
    }
   ],
   "source": [
    "def informe(tiempoPrelanzamiento, tiempoVuelo, destino, tanqueExterno, tanqueInterno):\n",
    "    informe = f\"\"\"INFORME DEL VUELO\n",
    "Destino: {destino}\n",
    "Tiempo de vuelo: {tiempoPrelanzamiento+tiempoVuelo}\n",
    "Combustible restante: {tanqueExterno + tanqueInterno} l\"\"\"\n",
    "    print(informe)\n",
    "\n",
    "informe(17, 364, 'Plutón', 9607, 1784)"
   ]
  },
  {
   "cell_type": "markdown",
   "metadata": {},
   "source": [
    "La función es problemática porque no se puede adaptar para minutos adicionales o tanques adicionales de combustible. Hacer la función más flexible permitiendo cualquier número de pasos basados en el tiempo y cualquier número de tanques. Utilizar ``*args`` y ``**kwargs``, pero con nombres más claros: ``*minutes`` y ``**fuel_reservoirs``."
   ]
  },
  {
   "cell_type": "code",
   "execution_count": 18,
   "metadata": {},
   "outputs": [
    {
     "name": "stdout",
     "output_type": "stream",
     "text": [
      "INFORME DEL VUELO\n",
      "Destino: Plutón\n",
      "Tiempo de vuelo: 160\n",
      "Combustible restante: 20010 l\n"
     ]
    }
   ],
   "source": [
    "def informeFlex(destino, *minutes, **fuel_reservoirs):\n",
    "    total_minutos = 0\n",
    "    for m in minutes:\n",
    "        total_minutos+=m\n",
    "    total_combustible = 0\n",
    "    for c in fuel_reservoirs:\n",
    "        total_combustible += fuel_reservoirs[c]\n",
    "    informe = f\"\"\"INFORME DEL VUELO\n",
    "Destino: {destino}\n",
    "Tiempo de vuelo: {total_minutos}\n",
    "Combustible restante: {total_combustible} l\"\"\"\n",
    "    print(informe)\n",
    "\n",
    "informeFlex('Plutón', 15, 25, 31, 89, Tanque_1=9607, Tanque_2=1784, Tanque_3=8619)"
   ]
  },
  {
   "cell_type": "markdown",
   "metadata": {},
   "source": [
    "Mostrar el nombre de cada tanque en el informe:"
   ]
  },
  {
   "cell_type": "code",
   "execution_count": 21,
   "metadata": {},
   "outputs": [
    {
     "name": "stdout",
     "output_type": "stream",
     "text": [
      "INFORME DEL VUELO\n",
      "Destino: Plutón\n",
      "Tiempo de vuelo: 160\n",
      "Combustible restante:\n",
      "  * En Tanque_1: 9607\n",
      "  * En Tanque_2: 1784\n",
      "  * En Tanque_3: 8619\n",
      "TOTAL: 20010\n"
     ]
    }
   ],
   "source": [
    "def informeFlex(destino, *minutes, **fuel_reservoirs):\n",
    "    total_minutos = 0\n",
    "    for m in minutes:\n",
    "        total_minutos+=m\n",
    "    informe = f\"\"\"INFORME DEL VUELO\n",
    "Destino: {destino}\n",
    "Tiempo de vuelo: {total_minutos}\n",
    "Combustible restante:\"\"\"\n",
    "    \n",
    "    total_combustible = 0\n",
    "    for c in fuel_reservoirs:\n",
    "        total_combustible += fuel_reservoirs[c]\n",
    "        informe += f'\\n  * En {c}: {fuel_reservoirs[c]}'\n",
    "    informe += f'\\nTOTAL: {total_combustible}'\n",
    "    print(informe)\n",
    "\n",
    "informeFlex('Plutón', 15, 25, 31, 89, Tanque_1=9607, Tanque_2=1784, Tanque_3=8619)"
   ]
  }
 ],
 "metadata": {
  "interpreter": {
   "hash": "38900d06165ff461236554e3e97a6bb1f51cfa392707a03fee6242cee0c08ea1"
  },
  "kernelspec": {
   "display_name": "Python 3.9.5 ('env': venv)",
   "language": "python",
   "name": "python3"
  },
  "language_info": {
   "codemirror_mode": {
    "name": "ipython",
    "version": 3
   },
   "file_extension": ".py",
   "mimetype": "text/x-python",
   "name": "python",
   "nbconvert_exporter": "python",
   "pygments_lexer": "ipython3",
   "version": "3.9.5"
  },
  "orig_nbformat": 4
 },
 "nbformat": 4,
 "nbformat_minor": 2
}
