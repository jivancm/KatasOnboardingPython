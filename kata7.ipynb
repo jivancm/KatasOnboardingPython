{
 "cells": [
  {
   "cell_type": "markdown",
   "metadata": {},
   "source": [
    "## Ejercicio 1: Creación de un bucle \"while\"\n",
    "Pedir al usuario que ingrese una lista de planetas.\n",
    "\n",
    "En la variable ``new_planet`` en la que se almacenará la entrada del usuario, y otra variable para la lista de planetas con el nombre  ``planets``."
   ]
  },
  {
   "cell_type": "code",
   "execution_count": 1,
   "metadata": {},
   "outputs": [],
   "source": [
    "new_planet = \"\"\n",
    "planets = []"
   ]
  },
  {
   "cell_type": "markdown",
   "metadata": {},
   "source": [
    "### Crear ciclo while\n",
    "Ejecutar un ciclo ``while`` mientras ``new_planet`` no sea igual a la palabra 'done'.\n",
    "\n",
    "Comprobar si la variable ``new_planet`` contiene un valor, que debería ser el nombre d eun planeta."
   ]
  },
  {
   "cell_type": "code",
   "execution_count": 3,
   "metadata": {},
   "outputs": [],
   "source": [
    "while new_planet != 'done':\n",
    "    if new_planet != '':\n",
    "        planets.append(new_planet)\n",
    "    new_planet = input('Ingrese un nuevo planeta o \"done\" para terminar:')"
   ]
  },
  {
   "cell_type": "markdown",
   "metadata": {},
   "source": [
    "## Ejercicio 2: Creación de un ciclo \"for\"\n",
    "Mostrar los planetas de la lista"
   ]
  },
  {
   "cell_type": "code",
   "execution_count": 13,
   "metadata": {},
   "outputs": [
    {
     "name": "stdout",
     "output_type": "stream",
     "text": [
      "Planeta 1 Tierra\n",
      "Planeta 2 Venus\n",
      "Planeta 3 Marte\n"
     ]
    }
   ],
   "source": [
    "for idx, planet in enumerate(planets):\n",
    "    print(\"Planeta\", idx+1, planet)"
   ]
  }
 ],
 "metadata": {
  "interpreter": {
   "hash": "a49403f7107e3f74ae75ea229ff6ff75fac22229be287630c7df15351ab549b8"
  },
  "kernelspec": {
   "display_name": "Python 3.9.5 64-bit",
   "language": "python",
   "name": "python3"
  },
  "language_info": {
   "codemirror_mode": {
    "name": "ipython",
    "version": 3
   },
   "file_extension": ".py",
   "mimetype": "text/x-python",
   "name": "python",
   "nbconvert_exporter": "python",
   "pygments_lexer": "ipython3",
   "version": "3.9.5"
  },
  "orig_nbformat": 4
 },
 "nbformat": 4,
 "nbformat_minor": 2
}
