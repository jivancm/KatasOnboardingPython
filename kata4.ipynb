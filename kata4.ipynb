{
 "cells": [
  {
   "cell_type": "markdown",
   "metadata": {},
   "source": [
    "## Ejercicio 1: Transformar cadenas"
   ]
  },
  {
   "cell_type": "code",
   "execution_count": 1,
   "metadata": {},
   "outputs": [],
   "source": [
    "text = \"\"\"Interesting facts about the Moon. The Moon is Earth's only satellite. There are several interesting facts about the Moon and how it affects life here on Earth. \n",
    "On average, the Moon moves 4cm away from the Earth every year. This yearly drift is not significant enough to cause immediate effects on Earth. The highest daylight temperature of the Moon is 127 C.\"\"\""
   ]
  },
  {
   "cell_type": "markdown",
   "metadata": {},
   "source": [
    "Dividir el texto en cada oración (separada por un ``.``)"
   ]
  },
  {
   "cell_type": "code",
   "execution_count": 2,
   "metadata": {},
   "outputs": [],
   "source": [
    "textos = text.split('.')"
   ]
  },
  {
   "cell_type": "markdown",
   "metadata": {},
   "source": [
    "DEFINIR las palabras claves a encontrar en los textos:\n",
    "- average\n",
    "- temperature\n",
    "- distance"
   ]
  },
  {
   "cell_type": "code",
   "execution_count": 3,
   "metadata": {},
   "outputs": [],
   "source": [
    "palabras = ['average', 'temperature', 'distance']"
   ]
  },
  {
   "cell_type": "markdown",
   "metadata": {},
   "source": [
    "Ciclo (bucle) para imprimir las oraciones que contienen palabras claves"
   ]
  },
  {
   "cell_type": "code",
   "execution_count": 7,
   "metadata": {},
   "outputs": [
    {
     "name": "stdout",
     "output_type": "stream",
     "text": [
      " \n",
      "On average, the Moon moves 4cm away from the Earth every year\n",
      " The highest daylight temperature of the Moon is 127 C\n"
     ]
    }
   ],
   "source": [
    "for texto in textos:\n",
    "    for palabra in palabras: \n",
    "        if palabra in texto:\n",
    "            print(texto)\n",
    "            break # No sería necesario volver a imprimir la misma oración"
   ]
  },
  {
   "cell_type": "markdown",
   "metadata": {},
   "source": [
    "Ajustar el ciclo (bucle) para cambiar C a Celsius"
   ]
  },
  {
   "cell_type": "code",
   "execution_count": 9,
   "metadata": {},
   "outputs": [
    {
     "name": "stdout",
     "output_type": "stream",
     "text": [
      " \n",
      "On average, the Moon moves 4cm away from the Earth every year\n",
      " The highest daylight temperature of the Moon is 127 Celsius\n"
     ]
    }
   ],
   "source": [
    "for texto in textos:\n",
    "    for palabra in palabras: \n",
    "        if palabra in texto:\n",
    "            print(texto.replace(' C', ' Celsius')) #Reemplazar solo la C por Celsuis a lo mejor no es tan factible, \n",
    "                                                 #se podría buscar un número antes de la C, o la C aislada\n",
    "            break # No sería necesario volver a imprimir la misma oración"
   ]
  },
  {
   "cell_type": "markdown",
   "metadata": {},
   "source": [
    "## Ejercicio 2: Formateo de cadenas\n",
    "Reemplazar las variables en una cadena larga"
   ]
  },
  {
   "cell_type": "code",
   "execution_count": 10,
   "metadata": {},
   "outputs": [],
   "source": [
    "# Datos con los que vas a trabajar\n",
    "name = \"Moon\"\n",
    "gravity = 0.00162 # in kms\n",
    "planet = \"Earth\""
   ]
  },
  {
   "cell_type": "markdown",
   "metadata": {},
   "source": [
    "Crear el título"
   ]
  },
  {
   "cell_type": "code",
   "execution_count": 11,
   "metadata": {},
   "outputs": [],
   "source": [
    "titulo = f'Gravedad en {name}'"
   ]
  },
  {
   "cell_type": "markdown",
   "metadata": {},
   "source": [
    "Crear los hechos en una cadena multilínea, convertir los km a metros"
   ]
  },
  {
   "cell_type": "code",
   "execution_count": 12,
   "metadata": {},
   "outputs": [],
   "source": [
    "hechos = f\"\"\"Planeta = '{planet}'\n",
    "Gravedad en {name} = {gravity * 1000} \"\"\""
   ]
  },
  {
   "cell_type": "markdown",
   "metadata": {},
   "source": [
    "Unir ambas variables para mostrar el resultado"
   ]
  },
  {
   "cell_type": "code",
   "execution_count": 14,
   "metadata": {},
   "outputs": [
    {
     "name": "stdout",
     "output_type": "stream",
     "text": [
      "Gravedad En Moon\n",
      "--------------------------------------------------------------------------------\n",
      "Planeta = 'Earth'\n",
      "Gravedad en Moon = 1.6199999999999999 m/s2\n"
     ]
    }
   ],
   "source": [
    "cadena = f\"\"\"{titulo}\n",
    "{'-' * 80}\n",
    "{hechos}\"\"\"\n",
    "print(cadena)"
   ]
  },
  {
   "cell_type": "code",
   "execution_count": 23,
   "metadata": {},
   "outputs": [
    {
     "name": "stdout",
     "output_type": "stream",
     "text": [
      "Gravedad en Ganímeades\n",
      "---------------------------------------------------------------\n",
      "Planeta = 'Marte'\n",
      "Gravedad en Ganímeades = 0.00143\n"
     ]
    }
   ],
   "source": [
    "nuevaCadena = \"\"\"Gravedad en {nombre}\n",
    "---------------------------------------------------------------\n",
    "Planeta = '{planeta}'\n",
    "Gravedad en {nombre} = {gravedad}\"\"\"\n",
    "print(nuevaCadena.format(planeta=\"Marte\", gravedad=0.00143, nombre=\"Ganímeades\"))"
   ]
  }
 ],
 "metadata": {
  "interpreter": {
   "hash": "a49403f7107e3f74ae75ea229ff6ff75fac22229be287630c7df15351ab549b8"
  },
  "kernelspec": {
   "display_name": "Python 3.9.5 64-bit",
   "language": "python",
   "name": "python3"
  },
  "language_info": {
   "codemirror_mode": {
    "name": "ipython",
    "version": 3
   },
   "file_extension": ".py",
   "mimetype": "text/x-python",
   "name": "python",
   "nbconvert_exporter": "python",
   "pygments_lexer": "ipython3",
   "version": "3.9.5"
  },
  "orig_nbformat": 4
 },
 "nbformat": 4,
 "nbformat_minor": 2
}
