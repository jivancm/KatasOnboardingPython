{
 "cells": [
  {
   "cell_type": "markdown",
   "metadata": {},
   "source": [
    "## Declaraciones ``if``, ``else`` y ``elif``\n",
    "Advertencia sobre asteroide acercándose a la tierra. Advertir si la velocidad supera los 25km/s; el asteroide que se acerca lo hace a una velocidad de 49km/s"
   ]
  },
  {
   "cell_type": "code",
   "execution_count": 1,
   "metadata": {},
   "outputs": [
    {
     "name": "stdout",
     "output_type": "stream",
     "text": [
      "¡ADVERTENCIA! Un asteroide se acerca a la Tierra demasiado rápido\n"
     ]
    }
   ],
   "source": [
    "# Añadir el código necesario para crear una variable que guarde la velocidad del asteroide.\n",
    "velocidad = 49\n",
    "# Escribe una expresión de prueba para calcular si necesita una advertencia.\n",
    "if velocidad > 25:\n",
    "    # Agregue las instrucciones que se ejecutarán si la expresión de prueba es true o false.\n",
    "    print(\"¡ADVERTENCIA! Un asteroide se acerca a la Tierra demasiado rápido\")\n",
    "else:\n",
    "    print(\"Tranquila mi gente: Ningún asteroide se acerca a la Tierra demasiado rápido\")"
   ]
  },
  {
   "cell_type": "markdown",
   "metadata": {},
   "source": [
    "Si un asteoride entra en la admósfera terrestre a una velocidad mayor o igual a 20km/s, \"a veces\" produce un rayo de luz. Mostrar una alerta si se debe buscar un asteroide en el cielo.\n",
    "Uno se dirige a 19km/s."
   ]
  },
  {
   "cell_type": "code",
   "execution_count": 2,
   "metadata": {},
   "outputs": [
    {
     "name": "stdout",
     "output_type": "stream",
     "text": [
      "Ni voltees a ver, ¡No verás ningún asteroide iluminando el cielo!\n"
     ]
    }
   ],
   "source": [
    "# Agrega el código para crear una variable para un asteroide que viaja a 19 km/s\n",
    "velocidad = 19\n",
    "# Escribe varias expresiones de prueba para determinar si puedes ver el rayo de luz desde la tierra\n",
    "if velocidad > 20:\n",
    "    # Agrega las instrucciones que se ejecutarán si las expresiones de prueba son True o False\n",
    "    print('¡ALERTA! ¡Es muy posible ver un asteroide iluminando el cielo!')\n",
    "elif velocidad == 20: #No se me ocurrió otra manera de utilizar elif :¨)\n",
    "    print('¡ALERTA! ¡Es más o menos posible ver un asteroide iluminando el cielo!')\n",
    "else:\n",
    "    print('Ni voltees a ver, ¡No verás ningún asteroide iluminando el cielo!')"
   ]
  },
  {
   "cell_type": "markdown",
   "metadata": {},
   "source": [
    "## Uso de operadores ``and`` y ``or``\n",
    "Emitir la advertencia o información correcta a la gente de la Tierra, según la velocidad y el tamaño de un asteroide. Utiliza instrucciones ``if``, ``else``, y ``elif``, así como los operadores ``and`` y ``or``."
   ]
  },
  {
   "cell_type": "code",
   "execution_count": 12,
   "metadata": {},
   "outputs": [
    {
     "name": "stdout",
     "output_type": "stream",
     "text": [
      "¡ADVERTENCIA! \n",
      "    Un asteroide se acerca demasiado rápido a la tierra, \n",
      "    pero además es demasiado grande. \n",
      "    ¡CORRAN POR SUS VIDAS!, \n",
      "    ¡PERO! lo verás hermosamente iluminando el cielo\n"
     ]
    }
   ],
   "source": [
    "# Agrega el código para crear nuevas variables para la velocidad y el tamaño del asteroide\n",
    "velocidad = 26\n",
    "tamaño = 26\n",
    "advertencia = \"\"\n",
    "# Para probar el código, prueba con varias velocidades y tamaños\n",
    "# Escribe varias expresiones de prueba o combinaciones de expresiones de prueba \n",
    "# para determinar qué mensaje se debe enviar a Tierra.\n",
    "if velocidad > 25 and tamaño > 25:\n",
    "    advertencia = \"\"\"¡ADVERTENCIA! \n",
    "    Un asteroide se acerca demasiado rápido a la tierra, \n",
    "    pero además es demasiado grande. \n",
    "    ¡CORRAN POR SUS VIDAS!, \n",
    "    ¡PERO! lo verás hermosamente iluminando el cielo\"\"\"\n",
    "elif velocidad > 25:\n",
    "    advertencia = \"\"\"¡ADVERTENCIA! \n",
    "    Un asteroide se acerca demasiado rápido a la tierra. \n",
    "    ¡Seguramente lo verás iluminando el cielo!\"\"\"\n",
    "elif velocidad >= 20 and tamaño > 25:\n",
    "    advertencia = \"\"\"¡ADVERTENCIA! \n",
    "    Un asteroide se acerca a la tierra,\n",
    "    pero además es demasiado grande. \n",
    "    ¡MEJOR HAY QUE RESGUARDARSE!, \n",
    "    ¡Seguramente lo verás iluminando el cielo!\"\"\"\n",
    "elif velocidad >= 20:\n",
    "    advertencia = \"\"\"¡ADVERTENCIA! \n",
    "    Un asteroide se acerca a la tierra.\n",
    "    ¡Seguramente lo verás iluminando el cielo!\"\"\"\n",
    "elif tamaño > 25:\n",
    "    advertencia = \"\"\"¡ADVERTENCIA! \n",
    "    Pareciera ser que un asteroide se acerca a la tierra sin mucho peligro,\n",
    "    pero es demasiado grande. \n",
    "    ¡NO SABEMOS QUÉ HACER!, \n",
    "    ¡Seguramente no verás  nada iluminando el cielo!\"\"\"\n",
    "else:\n",
    "    advertencia = \"Pues, no vemos peligro, todo tranqui\"\n",
    "\n",
    "print(advertencia)"
   ]
  }
 ],
 "metadata": {
  "interpreter": {
   "hash": "a49403f7107e3f74ae75ea229ff6ff75fac22229be287630c7df15351ab549b8"
  },
  "kernelspec": {
   "display_name": "Python 3.9.5 64-bit",
   "language": "python",
   "name": "python3"
  },
  "language_info": {
   "codemirror_mode": {
    "name": "ipython",
    "version": 3
   },
   "file_extension": ".py",
   "mimetype": "text/x-python",
   "name": "python",
   "nbconvert_exporter": "python",
   "pygments_lexer": "ipython3",
   "version": "3.9.5"
  },
  "orig_nbformat": 4
 },
 "nbformat": 4,
 "nbformat_minor": 2
}
