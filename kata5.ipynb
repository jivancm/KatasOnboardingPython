{
 "cells": [
  {
   "cell_type": "markdown",
   "metadata": {},
   "source": [
    "## Ejercicio 1: Utilizar operadores aritméticos\n",
    "Calcular la distancia entre dos planetas.\n",
    "Utilizar las distancias Tierra (149.597.870 km) y Júpiter (778.547.200 km)"
   ]
  },
  {
   "cell_type": "code",
   "execution_count": 2,
   "metadata": {},
   "outputs": [
    {
     "name": "stdout",
     "output_type": "stream",
     "text": [
      "La distancia entre La tierra y Júpiter es 628949330\n"
     ]
    }
   ],
   "source": [
    "tierra = 149597870 #km\n",
    "jupiter = 778547200 #km\n",
    "\n",
    "distancia = jupiter-tierra\n",
    "print(\"La distancia entre La tierra y Júpiter es\", distancia)"
   ]
  },
  {
   "cell_type": "markdown",
   "metadata": {},
   "source": [
    "Convertir la distancia en millas: 1 milla =  0.621km"
   ]
  },
  {
   "cell_type": "code",
   "execution_count": 3,
   "metadata": {},
   "outputs": [
    {
     "name": "stdout",
     "output_type": "stream",
     "text": [
      "La distancia en millas es de 390577533.93\n"
     ]
    }
   ],
   "source": [
    "millas = distancia * 0.621\n",
    "print(\"La distancia en millas es de\", millas)"
   ]
  },
  {
   "cell_type": "markdown",
   "metadata": {},
   "source": [
    "## Convertir cadenas en números y usa valores absolutos\n",
    "Leer la distancia del sol para dos planetas, y luego mostrar la distancia entre los planetas.\n",
    "\n",
    "Utilizar ``input`` para leer los valores, ``int`` para convertir a entero y luego ``abs`` para convertir el resultado en su valor absoluto."
   ]
  },
  {
   "cell_type": "code",
   "execution_count": 2,
   "metadata": {},
   "outputs": [
    {
     "name": "stdout",
     "output_type": "stream",
     "text": [
      "La distancia entre ambos planetas es de:  53000\n"
     ]
    }
   ],
   "source": [
    "# Almacenar las entradas del usuario\n",
    "#Pista: variable = input(\"¿Cuál es tu nombre?\")\n",
    "planeta1 = int(input(\"Introduce la distancia entre el sol y el Planeta 1 en Km:\"))\n",
    "planeta2 = int(input(\"Introduce la distancia entre el sol y el Planeta 2 en Km:\"))\n",
    "\n",
    "distancia = abs(planeta1-planeta2)\n",
    "\n",
    "print(\"La distancia entre ambos planetas es de: \", distancia)"
   ]
  },
  {
   "cell_type": "markdown",
   "metadata": {},
   "source": [
    "Convertir el resultado a millas"
   ]
  },
  {
   "cell_type": "code",
   "execution_count": 3,
   "metadata": {},
   "outputs": [
    {
     "name": "stdout",
     "output_type": "stream",
     "text": [
      "La distancia en millas es: 32913.0\n"
     ]
    }
   ],
   "source": [
    "millas = distancia * 0.621\n",
    "print(\"La distancia en millas es:\", millas)"
   ]
  }
 ],
 "metadata": {
  "interpreter": {
   "hash": "a49403f7107e3f74ae75ea229ff6ff75fac22229be287630c7df15351ab549b8"
  },
  "kernelspec": {
   "display_name": "Python 3.9.5 64-bit",
   "language": "python",
   "name": "python3"
  },
  "language_info": {
   "codemirror_mode": {
    "name": "ipython",
    "version": 3
   },
   "file_extension": ".py",
   "mimetype": "text/x-python",
   "name": "python",
   "nbconvert_exporter": "python",
   "pygments_lexer": "ipython3",
   "version": "3.9.5"
  },
  "orig_nbformat": 4
 },
 "nbformat": 4,
 "nbformat_minor": 2
}
